{
  "nbformat": 4,
  "nbformat_minor": 0,
  "metadata": {
    "colab": {
      "provenance": []
    },
    "kernelspec": {
      "name": "python3",
      "display_name": "Python 3"
    },
    "language_info": {
      "name": "python"
    }
  },
  "cells": [
    {
      "cell_type": "markdown",
      "source": [
        "Suponga que existe una moneda de 400, escriba el resultado de \"cambio_moneda\", en\n",
        "caso de que el usuario requiera un cambio de 800.\n"
      ],
      "metadata": {
        "id": "g1UN6uGacJxu"
      }
    },
    {
      "cell_type": "code",
      "execution_count": 2,
      "metadata": {
        "colab": {
          "base_uri": "https://localhost:8080/"
        },
        "id": "9kFU0EKcb_4O",
        "outputId": "beb22bd0-976e-4705-e47e-d7d208dd4e40"
      },
      "outputs": [
        {
          "output_type": "stream",
          "name": "stdout",
          "text": [
            "Introduzca monto: 800\n",
            "[400, 400] 2\n"
          ]
        }
      ],
      "source": [
        "\"\"\"1era corrida: mayor = 0, cambios[moneda[0]] = 500.\n",
        "\n",
        "sí monto = 800, es mayor a 0 entonces repetir bucle hasta que monto sea 0:\n",
        "\n",
        "sí modulo de monto = 800 / 500 no es igual a 0, ejecutar condicional por defecto:\n",
        "\n",
        "se incrementa mayor = 1\n",
        "se agrega a cambio = [400]\n",
        "y se resta monto = 800 - 400 = 400\n",
        "\n",
        "2da corrida: Se sigue repitiendo el bucle, porque 400 != 0:\n",
        "\n",
        "sí modulo de monto = 400 / 400 == 0, entonces:\n",
        "agregamo a cambio = [400,400]\n",
        "y decontamos de monto = 400 - 400 = 0\n",
        "\n",
        "volvemos al inicio del bucle a rectificar si monto es == 0, efectivaente,\n",
        "\n",
        "tercera corrida: salimos del mismo y retornamos cambio, culminando con la función.\"\"\"\n",
        "\n",
        "def cambio_moneda1(monedas, monto):\n",
        "\tcambio = []\n",
        "\tmayor = 0\n",
        "\twhile monto > 0:\n",
        "\t\tif monto % monedas[mayor] == 0:\n",
        "\t\t\tcambio.append(monedas[mayor])\n",
        "\t\t\tmonto -= cambio[cambio.index(monedas[mayor])]\n",
        "\t\telif monedas[mayor] > monto:\n",
        "\t\t\tmayor += 1\n",
        "\t\telse:\n",
        "\t\t\tmayor += 1\n",
        "\t\t\tcambio.append(monedas[mayor])\n",
        "\t\t\tmonto -= cambio[cambio.index(monedas[mayor])]\n",
        "\treturn cambio\n",
        "\n",
        "monedas1 = [500, 400, 100, 50, 10]\n",
        "cantidad1 = int(input(\"Introduzca monto: \"))  #870\n",
        "cambios1 = cambio_moneda1(monedas1, cantidad1)\n",
        "print(cambios1, len(cambios1))\n",
        "\n"
      ]
    },
    {
      "cell_type": "markdown",
      "source": [
        "\n",
        "Que sucede si la cantidad de monedas para el cambio es limitada?\n",
        "Ejemplo: Se tiene almacenada para el cambio la siguiente cantidad:\n",
        "una de 500w. una de 100w, tres de 50w y dos de 10w.\n",
        "Cómo se debe distribuir 710 para el cambio?\n"
      ],
      "metadata": {
        "id": "iDCxbNs8j--Q"
      }
    },
    {
      "cell_type": "code",
      "source": [
        "def cambio_moneda2(monedas,monto):\n",
        "\tcambio = []\n",
        "\tmayor = 0\n",
        "\n",
        "\twhile monto > 0:\n",
        "\t\tif monto > max(monedas):\n",
        "\t\t\tcambio.append(monedas.pop(monedas.index(max(monedas))))\n",
        "\t\t\tmonto -= cambio[mayor]\n",
        "\t\t\tmayor += 1\n",
        "\t\telif monto < max(monedas):\n",
        "\t\t\tif min(monedas) >= monto:\n",
        "\t\t\t\tcambio.append(monedas.pop(monedas.index(min(monedas))))\n",
        "\t\t\t\tmonto -= cambio[mayor]\n",
        "\treturn cambio\n",
        "\n",
        "\n",
        "#monedas2 = list(map(int, input(\"Ingrese la monedas almacenadas: \").split()))\n",
        "monedas2 = [500,100,50,50,50,10,10]\n",
        "monedas2.sort(reverse = True)\n",
        "print(monedas2)\n",
        "cant = int(input(\"Introduzca monto: \")) #710\n",
        "cambios = cambio_moneda2(monedas2, cant)\n",
        "print(cambios, le(cambios))"
      ],
      "metadata": {
        "id": "bLjLyzRrkANh"
      },
      "execution_count": null,
      "outputs": []
    },
    {
      "cell_type": "markdown",
      "source": [
        "Angel Gabriel Villegas Briceño\n",
        "C.I. 29698892\n",
        "telf- 0424-2424330\n",
        "correo: angelgasv29@gmail.com"
      ],
      "metadata": {
        "id": "HWOezhyRkprJ"
      }
    }
  ]
}